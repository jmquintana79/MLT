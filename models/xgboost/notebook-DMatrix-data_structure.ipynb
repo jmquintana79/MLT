{
 "cells": [
  {
   "cell_type": "markdown",
   "metadata": {},
   "source": [
    "# DMatrix: Data Structure for XGBoost\n",
    "\n",
    "This a simple review of DMatrix object provided for XGBoost.\n",
    "\n",
    "#### Notes:\n",
    "- DMatrix does not allow working with categorical variables, only with: **float, int, bool**.\n",
    "- Using this kind of object, the XGBoost library usage is **more efficient**.\n",
    "\n",
    "#### References:\n",
    "- [Python API References - Core Data Structure](https://xgboost.readthedocs.io/en/latest/python/python_api.html#xgboost.DMatrix)."
   ]
  },
  {
   "cell_type": "code",
   "execution_count": 30,
   "metadata": {},
   "outputs": [],
   "source": [
    "import warnings\n",
    "warnings.filterwarnings('ignore')\n",
    "import numpy as np\n",
    "import sys\n",
    "sys.path.append('../../')\n",
    "from datasets import solar\n",
    "from tools.reader import get_dcol\n",
    "import xgboost as xgb"
   ]
  },
  {
   "cell_type": "markdown",
   "metadata": {},
   "source": [
    "### load data"
   ]
  },
  {
   "cell_type": "code",
   "execution_count": 31,
   "metadata": {},
   "outputs": [
    {
     "name": "stdout",
     "output_type": "stream",
     "text": [
      "Load data..\n"
     ]
    }
   ],
   "source": [
    "# load data\n",
    "data, dcol = solar.load()\n",
    "# select data\n",
    "ly = ['y']\n",
    "lx = ['doy', 'hour', 'LCDC267', 'MCDC267', 'HCDC267', 'TCDC267', 'logAPCP267', 'RH267', 'TMP267', 'DSWRF267']\n",
    "data = data[lx + ly]\n",
    "dcol = get_dcol(data, ltarget=ly)"
   ]
  },
  {
   "cell_type": "markdown",
   "metadata": {},
   "source": [
    "### creating DMatrix object"
   ]
  },
  {
   "cell_type": "code",
   "execution_count": 32,
   "metadata": {},
   "outputs": [],
   "source": [
    "# xg object\n",
    "xgdata = xgb.DMatrix(\n",
    "    data[dcol['lx']], \n",
    "    label=data[dcol['ly']], \n",
    "    missing = np.nan, \n",
    "    silent = False,\n",
    "    feature_names = dcol['lx'],\n",
    "    nthread = -1\n",
    ")"
   ]
  },
  {
   "cell_type": "code",
   "execution_count": 43,
   "metadata": {},
   "outputs": [
    {
     "name": "stdout",
     "output_type": "stream",
     "text": [
      "feature names: ['doy', 'hour', 'LCDC267', 'MCDC267', 'HCDC267', 'TCDC267', 'logAPCP267', 'RH267', 'TMP267', 'DSWRF267']\n",
      "feature types: ['int', 'int', 'float', 'float', 'float', 'float', 'float', 'float', 'float', 'float']\n",
      "shape: 26029 x 10\n"
     ]
    }
   ],
   "source": [
    "# basix information\n",
    "print('feature names:',xgdata.feature_names)\n",
    "print('feature types:',xgdata.feature_types)\n",
    "print('shape: %s x %s'%(xgdata.num_row(), xgdata.num_col()))"
   ]
  },
  {
   "cell_type": "code",
   "execution_count": null,
   "metadata": {},
   "outputs": [],
   "source": []
  }
 ],
 "metadata": {
  "kernelspec": {
   "display_name": "Python 3",
   "language": "python",
   "name": "python3"
  },
  "language_info": {
   "codemirror_mode": {
    "name": "ipython",
    "version": 3
   },
   "file_extension": ".py",
   "mimetype": "text/x-python",
   "name": "python",
   "nbconvert_exporter": "python",
   "pygments_lexer": "ipython3",
   "version": "3.6.0"
  }
 },
 "nbformat": 4,
 "nbformat_minor": 2
}
