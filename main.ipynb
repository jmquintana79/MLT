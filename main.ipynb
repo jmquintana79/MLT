{
 "cells": [
  {
   "cell_type": "code",
   "execution_count": null,
   "id": "cdc52110-14fa-4e58-b76a-4828d8fa971b",
   "metadata": {},
   "outputs": [],
   "source": []
  },
  {
   "cell_type": "code",
   "execution_count": 1,
   "id": "5e79a21d-6ee9-48b3-a1f4-e45017b6634b",
   "metadata": {},
   "outputs": [],
   "source": [
    "%matplotlib inline\n",
    "import os\n",
    "import pandas as pd\n",
    "import numpy as np"
   ]
  },
  {
   "cell_type": "code",
   "execution_count": 2,
   "id": "1bdbda48-209c-4656-81b2-279b6ef9b108",
   "metadata": {},
   "outputs": [
    {
     "data": {
      "text/plain": [
       "(506, 14)"
      ]
     },
     "execution_count": 2,
     "metadata": {},
     "output_type": "execute_result"
    }
   ],
   "source": [
    "df = pd.read_csv(\"https://raw.githubusercontent.com/jmquintana79/Datasets/master/housing.csv\", header = None)\n",
    "cols_x = [f\"x{i}\"for i in range(df.shape[1]-1)]\n",
    "df.columns =  cols_x + [\"y\"]\n",
    "df.shape"
   ]
  },
  {
   "cell_type": "code",
   "execution_count": 3,
   "id": "c140ec90-12ac-444d-a38e-b3f765271835",
   "metadata": {},
   "outputs": [
    {
     "data": {
      "text/html": [
       "<div>\n",
       "<style scoped>\n",
       "    .dataframe tbody tr th:only-of-type {\n",
       "        vertical-align: middle;\n",
       "    }\n",
       "\n",
       "    .dataframe tbody tr th {\n",
       "        vertical-align: top;\n",
       "    }\n",
       "\n",
       "    .dataframe thead th {\n",
       "        text-align: right;\n",
       "    }\n",
       "</style>\n",
       "<table border=\"1\" class=\"dataframe\">\n",
       "  <thead>\n",
       "    <tr style=\"text-align: right;\">\n",
       "      <th></th>\n",
       "      <th>x0</th>\n",
       "      <th>x1</th>\n",
       "      <th>x2</th>\n",
       "      <th>x3</th>\n",
       "      <th>x4</th>\n",
       "      <th>x5</th>\n",
       "      <th>x6</th>\n",
       "      <th>x7</th>\n",
       "      <th>x8</th>\n",
       "      <th>x9</th>\n",
       "      <th>x10</th>\n",
       "      <th>x11</th>\n",
       "      <th>x12</th>\n",
       "      <th>y</th>\n",
       "    </tr>\n",
       "  </thead>\n",
       "  <tbody>\n",
       "    <tr>\n",
       "      <th>0</th>\n",
       "      <td>0.00632</td>\n",
       "      <td>18.0</td>\n",
       "      <td>2.31</td>\n",
       "      <td>0</td>\n",
       "      <td>0.538</td>\n",
       "      <td>6.575</td>\n",
       "      <td>65.2</td>\n",
       "      <td>4.0900</td>\n",
       "      <td>1</td>\n",
       "      <td>296.0</td>\n",
       "      <td>15.3</td>\n",
       "      <td>396.90</td>\n",
       "      <td>4.98</td>\n",
       "      <td>24.0</td>\n",
       "    </tr>\n",
       "    <tr>\n",
       "      <th>1</th>\n",
       "      <td>0.02731</td>\n",
       "      <td>0.0</td>\n",
       "      <td>7.07</td>\n",
       "      <td>0</td>\n",
       "      <td>0.469</td>\n",
       "      <td>6.421</td>\n",
       "      <td>78.9</td>\n",
       "      <td>4.9671</td>\n",
       "      <td>2</td>\n",
       "      <td>242.0</td>\n",
       "      <td>17.8</td>\n",
       "      <td>396.90</td>\n",
       "      <td>9.14</td>\n",
       "      <td>21.6</td>\n",
       "    </tr>\n",
       "    <tr>\n",
       "      <th>2</th>\n",
       "      <td>0.02729</td>\n",
       "      <td>0.0</td>\n",
       "      <td>7.07</td>\n",
       "      <td>0</td>\n",
       "      <td>0.469</td>\n",
       "      <td>7.185</td>\n",
       "      <td>61.1</td>\n",
       "      <td>4.9671</td>\n",
       "      <td>2</td>\n",
       "      <td>242.0</td>\n",
       "      <td>17.8</td>\n",
       "      <td>392.83</td>\n",
       "      <td>4.03</td>\n",
       "      <td>34.7</td>\n",
       "    </tr>\n",
       "    <tr>\n",
       "      <th>3</th>\n",
       "      <td>0.03237</td>\n",
       "      <td>0.0</td>\n",
       "      <td>2.18</td>\n",
       "      <td>0</td>\n",
       "      <td>0.458</td>\n",
       "      <td>6.998</td>\n",
       "      <td>45.8</td>\n",
       "      <td>6.0622</td>\n",
       "      <td>3</td>\n",
       "      <td>222.0</td>\n",
       "      <td>18.7</td>\n",
       "      <td>394.63</td>\n",
       "      <td>2.94</td>\n",
       "      <td>33.4</td>\n",
       "    </tr>\n",
       "    <tr>\n",
       "      <th>4</th>\n",
       "      <td>0.06905</td>\n",
       "      <td>0.0</td>\n",
       "      <td>2.18</td>\n",
       "      <td>0</td>\n",
       "      <td>0.458</td>\n",
       "      <td>7.147</td>\n",
       "      <td>54.2</td>\n",
       "      <td>6.0622</td>\n",
       "      <td>3</td>\n",
       "      <td>222.0</td>\n",
       "      <td>18.7</td>\n",
       "      <td>396.90</td>\n",
       "      <td>5.33</td>\n",
       "      <td>36.2</td>\n",
       "    </tr>\n",
       "    <tr>\n",
       "      <th>...</th>\n",
       "      <td>...</td>\n",
       "      <td>...</td>\n",
       "      <td>...</td>\n",
       "      <td>...</td>\n",
       "      <td>...</td>\n",
       "      <td>...</td>\n",
       "      <td>...</td>\n",
       "      <td>...</td>\n",
       "      <td>...</td>\n",
       "      <td>...</td>\n",
       "      <td>...</td>\n",
       "      <td>...</td>\n",
       "      <td>...</td>\n",
       "      <td>...</td>\n",
       "    </tr>\n",
       "    <tr>\n",
       "      <th>501</th>\n",
       "      <td>0.06263</td>\n",
       "      <td>0.0</td>\n",
       "      <td>11.93</td>\n",
       "      <td>0</td>\n",
       "      <td>0.573</td>\n",
       "      <td>6.593</td>\n",
       "      <td>69.1</td>\n",
       "      <td>2.4786</td>\n",
       "      <td>1</td>\n",
       "      <td>273.0</td>\n",
       "      <td>21.0</td>\n",
       "      <td>391.99</td>\n",
       "      <td>9.67</td>\n",
       "      <td>22.4</td>\n",
       "    </tr>\n",
       "    <tr>\n",
       "      <th>502</th>\n",
       "      <td>0.04527</td>\n",
       "      <td>0.0</td>\n",
       "      <td>11.93</td>\n",
       "      <td>0</td>\n",
       "      <td>0.573</td>\n",
       "      <td>6.120</td>\n",
       "      <td>76.7</td>\n",
       "      <td>2.2875</td>\n",
       "      <td>1</td>\n",
       "      <td>273.0</td>\n",
       "      <td>21.0</td>\n",
       "      <td>396.90</td>\n",
       "      <td>9.08</td>\n",
       "      <td>20.6</td>\n",
       "    </tr>\n",
       "    <tr>\n",
       "      <th>503</th>\n",
       "      <td>0.06076</td>\n",
       "      <td>0.0</td>\n",
       "      <td>11.93</td>\n",
       "      <td>0</td>\n",
       "      <td>0.573</td>\n",
       "      <td>6.976</td>\n",
       "      <td>91.0</td>\n",
       "      <td>2.1675</td>\n",
       "      <td>1</td>\n",
       "      <td>273.0</td>\n",
       "      <td>21.0</td>\n",
       "      <td>396.90</td>\n",
       "      <td>5.64</td>\n",
       "      <td>23.9</td>\n",
       "    </tr>\n",
       "    <tr>\n",
       "      <th>504</th>\n",
       "      <td>0.10959</td>\n",
       "      <td>0.0</td>\n",
       "      <td>11.93</td>\n",
       "      <td>0</td>\n",
       "      <td>0.573</td>\n",
       "      <td>6.794</td>\n",
       "      <td>89.3</td>\n",
       "      <td>2.3889</td>\n",
       "      <td>1</td>\n",
       "      <td>273.0</td>\n",
       "      <td>21.0</td>\n",
       "      <td>393.45</td>\n",
       "      <td>6.48</td>\n",
       "      <td>22.0</td>\n",
       "    </tr>\n",
       "    <tr>\n",
       "      <th>505</th>\n",
       "      <td>0.04741</td>\n",
       "      <td>0.0</td>\n",
       "      <td>11.93</td>\n",
       "      <td>0</td>\n",
       "      <td>0.573</td>\n",
       "      <td>6.030</td>\n",
       "      <td>80.8</td>\n",
       "      <td>2.5050</td>\n",
       "      <td>1</td>\n",
       "      <td>273.0</td>\n",
       "      <td>21.0</td>\n",
       "      <td>396.90</td>\n",
       "      <td>7.88</td>\n",
       "      <td>11.9</td>\n",
       "    </tr>\n",
       "  </tbody>\n",
       "</table>\n",
       "<p>506 rows × 14 columns</p>\n",
       "</div>"
      ],
      "text/plain": [
       "          x0    x1     x2  x3     x4     x5    x6      x7  x8     x9   x10  \\\n",
       "0    0.00632  18.0   2.31   0  0.538  6.575  65.2  4.0900   1  296.0  15.3   \n",
       "1    0.02731   0.0   7.07   0  0.469  6.421  78.9  4.9671   2  242.0  17.8   \n",
       "2    0.02729   0.0   7.07   0  0.469  7.185  61.1  4.9671   2  242.0  17.8   \n",
       "3    0.03237   0.0   2.18   0  0.458  6.998  45.8  6.0622   3  222.0  18.7   \n",
       "4    0.06905   0.0   2.18   0  0.458  7.147  54.2  6.0622   3  222.0  18.7   \n",
       "..       ...   ...    ...  ..    ...    ...   ...     ...  ..    ...   ...   \n",
       "501  0.06263   0.0  11.93   0  0.573  6.593  69.1  2.4786   1  273.0  21.0   \n",
       "502  0.04527   0.0  11.93   0  0.573  6.120  76.7  2.2875   1  273.0  21.0   \n",
       "503  0.06076   0.0  11.93   0  0.573  6.976  91.0  2.1675   1  273.0  21.0   \n",
       "504  0.10959   0.0  11.93   0  0.573  6.794  89.3  2.3889   1  273.0  21.0   \n",
       "505  0.04741   0.0  11.93   0  0.573  6.030  80.8  2.5050   1  273.0  21.0   \n",
       "\n",
       "        x11   x12     y  \n",
       "0    396.90  4.98  24.0  \n",
       "1    396.90  9.14  21.6  \n",
       "2    392.83  4.03  34.7  \n",
       "3    394.63  2.94  33.4  \n",
       "4    396.90  5.33  36.2  \n",
       "..      ...   ...   ...  \n",
       "501  391.99  9.67  22.4  \n",
       "502  396.90  9.08  20.6  \n",
       "503  396.90  5.64  23.9  \n",
       "504  393.45  6.48  22.0  \n",
       "505  396.90  7.88  11.9  \n",
       "\n",
       "[506 rows x 14 columns]"
      ]
     },
     "execution_count": 3,
     "metadata": {},
     "output_type": "execute_result"
    }
   ],
   "source": [
    "df"
   ]
  },
  {
   "cell_type": "code",
   "execution_count": null,
   "id": "a2fd73b7-c0e6-409c-bc92-dc9e877f7526",
   "metadata": {},
   "outputs": [],
   "source": []
  },
  {
   "cell_type": "code",
   "execution_count": 6,
   "id": "2c162ec2-cb61-4739-9696-47bbe19ac2c4",
   "metadata": {},
   "outputs": [],
   "source": [
    "from sklearn.base import BaseEstimator, TransformerMixin\n",
    "\n",
    "class ColumnSelector(BaseEstimator, TransformerMixin):\n",
    "    \"\"\"\n",
    "    A feature selector for scikit-learn's Pipeline class that returns specified columns from a Pandas dataframe.\n",
    "    cols -- list of columns to be selected.\n",
    "    return_array -- return array or df with selected columns (default, array).\n",
    "    \"\"\"\n",
    "\n",
    "    # constructor\n",
    "    def __init__(self, cols:list, return_array:bool = True):\n",
    "        self.cols = cols\n",
    "        self.return_array = return_array\n",
    "\n",
    "    def transform(self, X, y=None):\n",
    "        # validation input format\n",
    "        assert isinstance(X, pd.DataFrame), \"It is required a dataframe as input.\"\n",
    "        # validation selected columns are in df\n",
    "        for col in self.cols:\n",
    "            assert col in X.columns.tolist(), f\"Column '{col}' is not in the input dataframe.\"\n",
    "        # select and return\n",
    "        if self.return_array:\n",
    "            return X[self.cols].values\n",
    "        else:\n",
    "            return X[self.cols]\n",
    "\n",
    "    def fit(self, X, y=None):\n",
    "        return self"
   ]
  },
  {
   "cell_type": "code",
   "execution_count": 20,
   "id": "91dc62ce-cea2-4461-8f7c-7a9cbfbcf2ed",
   "metadata": {},
   "outputs": [],
   "source": [
    "from sklearn.pipeline import Pipeline, FeatureUnion\n",
    "from sklearn.compose import ColumnTransformer\n",
    "\n",
    "class PipelineTools():\n",
    "    def __init__(self):\n",
    "        pass\n",
    "    \n",
    "    @staticmethod\n",
    "    def create(list_of_steps:list):\n",
    "        # validate input\n",
    "        assert list(set([len(i) for i in list_of_steps]))[0] == 2, \"Any step don't have a correct dimession.\"\n",
    "        assert list(set([type(i[0]) for i in list_of_steps]))[0] == str, \"Any step don't have a correct name description.\"\n",
    "        # return pipeline\n",
    "        return Pipeline(list_of_steps)\n",
    "        \n",
    "    @staticmethod\n",
    "    def merge_features(list_of_pipelines:list):\n",
    "        # validate input\n",
    "        assert list(set([len(i) for i in list_of_pipelines]))[0] == 2, \"Any pipeline don't have a correct dimession.\"\n",
    "        assert list(set([type(i[0]) for i in list_of_pipelines]))[0] == str, \"Any pipeline don't have a correct name description.\"\n",
    "        # return pipeline\n",
    "        return FeatureUnion(transformer_list=list_of_pipelines)        \n",
    "    \n",
    "    @staticmethod\n",
    "    def merge_features_by_columns_lists(list_of_pipelines_by_columns_lists:list):\n",
    "        # validate input\n",
    "        assert list(set([len(i) for i in list_of_pipelines_by_columns_lists]))[0] == 3, \"Any pipeline don't have a correct dimession.\"\n",
    "        assert list(set([type(i[0]) for i in list_of_pipelines_by_columns_lists]))[0] == str, \"Any pipeline don't have a correct name description.\"\n",
    "        assert list(set([type(i[2]) for i in list_of_pipelines_by_columns_lists]))[0] == list, \"Any pipeline don't have a correct list of columns.\"\n",
    "        # return pipeline\n",
    "        return ColumnTransformer(list_of_pipelines_by_columns_lists)     "
   ]
  },
  {
   "cell_type": "code",
   "execution_count": 28,
   "id": "12b45db1-db67-49f2-9549-f34c5c48e042",
   "metadata": {},
   "outputs": [],
   "source": [
    "cols_y = [\"y\"]\n",
    "cols_x = [c for c in df.columns if not c in cols_y]\n",
    "X = df[cols_x]\n",
    "y = df[cols_y]"
   ]
  },
  {
   "cell_type": "code",
   "execution_count": 31,
   "id": "6229d4bc-bfbe-488b-aa4b-36d83cb09d05",
   "metadata": {},
   "outputs": [],
   "source": [
    "from sklearn.preprocessing import StandardScaler\n",
    "pltools = PipelineTools()\n",
    "\n",
    "lpreprocessing = [\n",
    "    ('selector', ColumnSelector(cols_x)),\n",
    "    ('scaler', StandardScaler()),\n",
    "]\n",
    "ppl_preprocessing = pltools.create(lpreprocessing)"
   ]
  },
  {
   "cell_type": "code",
   "execution_count": 36,
   "id": "a33d815b-1327-4e81-8832-28704cc309ce",
   "metadata": {},
   "outputs": [],
   "source": [
    "from models.base import Regressor\n",
    "from sklearn.linear_model import LinearRegression"
   ]
  },
  {
   "cell_type": "code",
   "execution_count": 37,
   "id": "e536da21-861a-43fa-a830-37d2d6679f5d",
   "metadata": {},
   "outputs": [
    {
     "name": "stdout",
     "output_type": "stream",
     "text": [
      "[info] Create LinearRegression(regressor): {'copy_X': True, 'fit_intercept': True, 'n_jobs': None, 'normalize': 'deprecated', 'positive': False}\n"
     ]
    }
   ],
   "source": [
    "clf = Regressor(LinearRegression())"
   ]
  },
  {
   "cell_type": "code",
   "execution_count": 39,
   "id": "1efd3f0b-eba0-4422-b4b7-eab88110f546",
   "metadata": {},
   "outputs": [
    {
     "data": {
      "text/plain": [
       "['__class__',\n",
       " '__delattr__',\n",
       " '__dict__',\n",
       " '__dir__',\n",
       " '__doc__',\n",
       " '__eq__',\n",
       " '__format__',\n",
       " '__ge__',\n",
       " '__getattribute__',\n",
       " '__gt__',\n",
       " '__hash__',\n",
       " '__init__',\n",
       " '__init_subclass__',\n",
       " '__le__',\n",
       " '__lt__',\n",
       " '__module__',\n",
       " '__ne__',\n",
       " '__new__',\n",
       " '__reduce__',\n",
       " '__reduce_ex__',\n",
       " '__repr__',\n",
       " '__setattr__',\n",
       " '__sizeof__',\n",
       " '__str__',\n",
       " '__subclasshook__',\n",
       " '__weakref__',\n",
       " '_fit_gridsearchcv',\n",
       " 'clf',\n",
       " 'fit',\n",
       " 'fit_exhaustive_tuning',\n",
       " 'get_params',\n",
       " 'metric_cv',\n",
       " 'metrics',\n",
       " 'metrics_train_cv',\n",
       " 'name',\n",
       " 'predict',\n",
       " 'scores_cv',\n",
       " 'scores_cv_exhaustive_tuning',\n",
       " 'set_params',\n",
       " 'type',\n",
       " 'valida']"
      ]
     },
     "execution_count": 39,
     "metadata": {},
     "output_type": "execute_result"
    }
   ],
   "source": [
    "dir(clf)"
   ]
  },
  {
   "cell_type": "code",
   "execution_count": 40,
   "id": "a4ae70fb-1ac7-41a1-b45b-c5993d9001a7",
   "metadata": {},
   "outputs": [
    {
     "name": "stdout",
     "output_type": "stream",
     "text": [
      "[info] Fitting...\n"
     ]
    }
   ],
   "source": [
    "clf.fit(X, y)"
   ]
  },
  {
   "cell_type": "code",
   "execution_count": 45,
   "id": "178fc511-bea1-40d4-b8ea-307347b9eebe",
   "metadata": {},
   "outputs": [
    {
     "name": "stdout",
     "output_type": "stream",
     "text": [
      "[info] CV scoring...\n",
      "[info] cv scores(neg_mean_absolute_error): -4.250 +/- 0.979 \n"
     ]
    }
   ],
   "source": [
    "clf.scores_cv(X,y)"
   ]
  },
  {
   "cell_type": "code",
   "execution_count": 48,
   "id": "902ea164-366d-409a-8ffc-3b0954860a03",
   "metadata": {},
   "outputs": [
    {
     "name": "stdout",
     "output_type": "stream",
     "text": [
      "[info] CV scoring with exhaustive tuning...\n",
      "[info] cv scores(neg_mean_absolute_error): -4.096 +/- 1.063 \n"
     ]
    }
   ],
   "source": [
    "dparam_grid = {\n",
    "    \"fit_intercept\": [True, False]\n",
    "}\n",
    "clf.scores_cv_exhaustive_tuning(X,y, dparam_grid)"
   ]
  },
  {
   "cell_type": "code",
   "execution_count": 50,
   "id": "102eb77b-9beb-43d6-9ed3-ca16712883a2",
   "metadata": {},
   "outputs": [
    {
     "data": {
      "text/plain": [
       "['X_',\n",
       " '__class__',\n",
       " '__delattr__',\n",
       " '__dict__',\n",
       " '__dir__',\n",
       " '__doc__',\n",
       " '__eq__',\n",
       " '__format__',\n",
       " '__ge__',\n",
       " '__getattribute__',\n",
       " '__gt__',\n",
       " '__hash__',\n",
       " '__init__',\n",
       " '__init_subclass__',\n",
       " '__le__',\n",
       " '__lt__',\n",
       " '__module__',\n",
       " '__ne__',\n",
       " '__new__',\n",
       " '__reduce__',\n",
       " '__reduce_ex__',\n",
       " '__repr__',\n",
       " '__setattr__',\n",
       " '__sizeof__',\n",
       " '__str__',\n",
       " '__subclasshook__',\n",
       " '__weakref__',\n",
       " '_fit_gridsearchcv',\n",
       " 'clf',\n",
       " 'fit',\n",
       " 'fit_exhaustive_tuning',\n",
       " 'get_params',\n",
       " 'metric_cv',\n",
       " 'metrics',\n",
       " 'metrics_train_cv',\n",
       " 'name',\n",
       " 'predict',\n",
       " 'scores_cv',\n",
       " 'scores_cv_exhaustive_tuning',\n",
       " 'set_params',\n",
       " 'type',\n",
       " 'valida',\n",
       " 'y_']"
      ]
     },
     "execution_count": 50,
     "metadata": {},
     "output_type": "execute_result"
    }
   ],
   "source": [
    "dir(clf)"
   ]
  },
  {
   "cell_type": "code",
   "execution_count": 57,
   "id": "56f890c0-9462-4070-8651-9f07d41d974c",
   "metadata": {},
   "outputs": [],
   "source": [
    "X_processed = ppl_preprocessing.fit_transform(X)"
   ]
  },
  {
   "cell_type": "code",
   "execution_count": 58,
   "id": "4eea37b9-7d52-4022-b432-b8d448981450",
   "metadata": {},
   "outputs": [
    {
     "name": "stdout",
     "output_type": "stream",
     "text": [
      "[info] Calculating train/cv metrics...\n",
      "[info] Metrics(train): bias = 0.000  mae = 3.271   r2 = 0.734\n",
      "[info] Metrics(cv): bias = 0.075  mae = 4.247   r2 = 0.549\n"
     ]
    },
    {
     "data": {
      "text/plain": [
       "{'train': {'bias': 7.66712121986195e-15,\n",
       "  'mae': 3.2708628109003164,\n",
       "  'r2': 0.733789726372463},\n",
       " 'cv': {'bias': 0.07462323987717547,\n",
       "  'mae': 4.246751028599074,\n",
       "  'r2': 0.549122407684909}}"
      ]
     },
     "execution_count": 58,
     "metadata": {},
     "output_type": "execute_result"
    }
   ],
   "source": [
    "clf.metrics_train_cv(X, y)"
   ]
  },
  {
   "cell_type": "code",
   "execution_count": 59,
   "id": "22aad229-4451-48cd-bb5b-394c83041e6a",
   "metadata": {},
   "outputs": [
    {
     "name": "stdout",
     "output_type": "stream",
     "text": [
      "[info] Calculating train/cv metrics...\n",
      "[info] Metrics(train): bias = 0.000  mae = 3.271   r2 = 0.734\n",
      "[info] Metrics(cv): bias = 0.075  mae = 4.247   r2 = 0.549\n"
     ]
    },
    {
     "data": {
      "text/plain": [
       "{'train': {'bias': 7.0071309317053356e-15,\n",
       "  'mae': 3.270862810900317,\n",
       "  'r2': 0.7337897263724628},\n",
       " 'cv': {'bias': 0.07462323987725343,\n",
       "  'mae': 4.246751028599062,\n",
       "  'r2': 0.5491224076849099}}"
      ]
     },
     "execution_count": 59,
     "metadata": {},
     "output_type": "execute_result"
    }
   ],
   "source": [
    "clf.metrics_train_cv(X_processed, y)"
   ]
  },
  {
   "cell_type": "code",
   "execution_count": null,
   "id": "19944d76-f934-40a0-beb7-78087bc7bf1d",
   "metadata": {},
   "outputs": [],
   "source": [
    "# https://www.kaggle.com/travelcodesleep/end-to-end-regression-pipeline-using-scikitlearn"
   ]
  }
 ],
 "metadata": {
  "kernelspec": {
   "display_name": "mlt",
   "language": "python",
   "name": "mlt"
  },
  "language_info": {
   "codemirror_mode": {
    "name": "ipython",
    "version": 3
   },
   "file_extension": ".py",
   "mimetype": "text/x-python",
   "name": "python",
   "nbconvert_exporter": "python",
   "pygments_lexer": "ipython3",
   "version": "3.9.5"
  }
 },
 "nbformat": 4,
 "nbformat_minor": 5
}
